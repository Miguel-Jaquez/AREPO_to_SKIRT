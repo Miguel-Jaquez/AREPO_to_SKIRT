{
 "cells": [
  {
   "cell_type": "markdown",
   "metadata": {},
   "source": [
    "# The key file is MCTR_Cfeed_n6r3K_269 which is the Arepo snapshot on a voronoi mesh.\n",
    "\n",
    "Rowan"
   ]
  },
  {
   "cell_type": "code",
   "execution_count": 13,
   "metadata": {},
   "outputs": [],
   "source": [
    "from arepy.read_write import binary_read as rsnap\n",
    "from arepy.read_write import binary_write as wsnap\n",
    "from arepy.utility import snap_utility as snut\n",
    "from arepy.utility import cgs_constants as cgs\n",
    "import numpy as np\n",
    "import math\n",
    "from scipy.interpolate import griddata, NearestNDInterpolator\n",
    "import matplotlib.colors as mc\n",
    "import matplotlib.pyplot as plt\n",
    "import yt\n",
    "from matplotlib.colors import LogNorm\n",
    "from numpy import uint32, uint64, float64, float32\n",
    "from numpy import linspace, array, logspace, sin, cos, pi, arange"
   ]
  },
  {
   "cell_type": "code",
   "execution_count": 14,
   "metadata": {},
   "outputs": [
    {
     "data": {
      "text/plain": [
       "100.0"
      ]
     },
     "execution_count": 14,
     "metadata": {},
     "output_type": "execute_result"
    }
   ],
   "source": [
    "########### GENERAL STUFF  ##########\n",
    "\n",
    "#internal arepo units in cgs\n",
    "ulength = 3.0856e20 #cm \n",
    "umass = 1.991e33 #solar mass in g\n",
    "uvel = 1.0e5\n",
    "\n",
    "utime = ulength/uvel\n",
    "udensity = umass/ulength/ulength/ulength\n",
    "uenergy= umass*uvel*uvel\n",
    "ucolumn = umass/ulength/ulength\n",
    "\n",
    "uparsec=ulength/3.0856e18\n",
    "parsec = 3.0856e18\n",
    "uMyr=utime/(60.*60.*24.*365.25*1.e6)\n",
    "\n",
    "\n",
    "#make the images bigger\n",
    "fig_size = plt.rcParams[\"figure.figsize\"]\n",
    "fig_size[0]=10\n",
    "fig_size[1]=10\n",
    "plt.rcParams[\"figure.figsize\"] = fig_size\n",
    "uparsec"
   ]
  },
  {
   "cell_type": "code",
   "execution_count": 15,
   "metadata": {},
   "outputs": [
    {
     "name": "stdout",
     "output_type": "stream",
     "text": [
      "Loading file /home/jesus/Dropbox/Galvan-Madrid/MCTR_Cfeed_n6r3K_269\n",
      "Particles [4946202       0 6479638   10244       0    1543]\n",
      "Masses [0.        0.        5.0702798 0.        0.        0.       ]\n",
      "Gas particles 4946202\n",
      "Tracer particles 6479638\n",
      "Sink particles 1543\n",
      "Star particles 10244\n",
      "Time =  [2.30057156]\n",
      "Precision: Double\n",
      "ID type:  <class 'numpy.uint32'>\n",
      "Read mass\n",
      "Read density\n",
      "About to read tracers\n",
      "ID type:  <class 'numpy.uint32'>\n",
      "ID type:  <class 'numpy.uint32'>\n",
      "[406397898 396482918 396477650 417455408 397597760 397244220 397541038\n",
      " 413767580 396692634 396482771]\n",
      "About to read timesteps\n",
      "[0.00070365 0.00070365 0.00070365 0.00070365 0.00070365 0.00070365\n",
      " 0.00070365 0.00070365 0.00070365 0.00070365]\n",
      "Read in tdust\n"
     ]
    }
   ],
   "source": [
    "number = 269\n",
    "filenum = str(number).zfill(3)\n",
    "ikeepsinks = 1\n",
    "iwrite_newfile = 1\n",
    "iremovetracers = 1\n",
    "rcut = 1.0   #in which units are this value\n",
    "iusealltracers = 0\n",
    "\n",
    "#base = \"/fs/computo56/other0/jesus/scripts_rowan/\"\n",
    "base = \"/home/jesus/Dropbox/Galvan-Madrid/\"\n",
    "imbase = base\n",
    "sim = \"MCTR_Cfeed_n6r3K\"\n",
    "f = base + 'MCTR_Cfeed_n6r3K_' + filenum\n",
    "\n",
    "rsnap.io_flags['mc_tracer']=True\n",
    "rsnap.io_flags['time_steps']=True\n",
    "rsnap.io_flags['sgchem']=True\n",
    "rsnap.io_flags['variable_metallicity']=False\n",
    "\n",
    "data, header = rsnap.read_snapshot(f)\n",
    "time = header['time']\n",
    "nparts = header['num_particles']"
   ]
  },
  {
   "cell_type": "markdown",
   "metadata": {},
   "source": [
    "# ¿What are star particle ? what is the difference between star and sinks particles? why particles and not cells?"
   ]
  },
  {
   "cell_type": "code",
   "execution_count": 25,
   "metadata": {},
   "outputs": [
    {
     "name": "stdout",
     "output_type": "stream",
     "text": [
      "gas particles 4946202\n",
      "tracer particles 6479638\n",
      "sinks particles = 1543\n"
     ]
    }
   ],
   "source": [
    "ngas = nparts[0]\n",
    "print (\"gas particles {}\".format(ngas))\n",
    "ntracer = nparts[2]\n",
    "print (\"tracer particles {}\".format(ntracer))\n",
    "nsinks = nparts[5] #numbers of sinks\n",
    "print (\"sinks particles = {}\".format(nsinks))\n",
    "total_part = ngas + nsinks  #number of gas cells and ¿sinks cells?"
   ]
  },
  {
   "cell_type": "markdown",
   "metadata": {},
   "source": [
    "# Pruebas"
   ]
  },
  {
   "cell_type": "code",
   "execution_count": 32,
   "metadata": {},
   "outputs": [
    {
     "name": "stdout",
     "output_type": "stream",
     "text": [
      "[0 0 0 ... 0 0 0] trace particles in each gas cell\n",
      "index gas cell with trace particles\n",
      "[  36044   36045   36046 ... 4941564 4941567 4944983]\n",
      "1543 Sinks are present\n",
      "COM 86.0 -7.5 2.75\n"
     ]
    }
   ],
   "source": [
    "rho = data['rho'][0:ngas] # density of gas particles\n",
    "pos = data['pos'][0:ngas,:] #posicion gas\n",
    "# gas mass \n",
    "gasmass = data['mass'][0:ngas] # mass of gas cells\n",
    "\n",
    "#\"gas chemistry\"?\n",
    "xH2, xHp, xCO = data['chem'][0:ngas].T\n",
    "xHp = xHp\n",
    "xH2 = xH2\n",
    "xCO = xCO\n",
    "rho_cgs = rho * udensity\n",
    "xHe=0.1\n",
    "\n",
    "#constants\n",
    "mp = 1.6726231e-24 \n",
    "kb = 1.3806485e-16\n",
    "xHI = 1 - xHp -2*xH2\n",
    "yn = rho_cgs/((1. + 4.0 * xHe) * mp)\n",
    "\n",
    "\n",
    "numtrace = data['numtrace'][0:ngas] #trace particles in gas cells\n",
    "print (numtrace, \"trace particles in each gas cell\")\n",
    "\n",
    "itrace,=np.where(numtrace > 0)\n",
    "print (\"index gas cell with trace particles\")\n",
    "print (itrace)\n",
    "\n",
    "tracerno = numtrace[itrace]\n",
    "\n",
    "#define the center\n",
    "xcent=1400.\n",
    "ycent=1400.\n",
    "zcent=1400.\n",
    "\n",
    "x,y,z = pos.T\n",
    "xx=x[itrace]-xcent\n",
    "yy=y[itrace]-ycent\n",
    "zz=z[itrace]-zcent\n",
    "\n",
    "# define sinks positions\n",
    "if nsinks > 0 : #siks in this snapshot\n",
    "    print(nsinks, 'Sinks are present')\n",
    "    pos_sink = data['pos'][total_part-nsinks:total_part]\n",
    "    xs,ys,zs = pos_sink.T\n",
    "    xxs=xs-xcent\n",
    "    yys=ys-ycent\n",
    "    zzs=zs-zcent\n",
    "#    print(xxs)\n",
    "\n",
    "##############\n",
    "# com  # and this is? #######  ### complex!!!\n",
    "##############\n",
    "if iusealltracers > 0 : #define the complex \"position\" using the tracer particles\n",
    "    COX = np.sum(tracerno *xx)/np.sum(tracerno)\n",
    "    COY = np.sum(tracerno *yy)/np.sum(tracerno)\n",
    "    COZ = np.sum(tracerno *zz)/np.sum(tracerno)\n",
    "else :\n",
    "    COX = 86.0\n",
    "    COY = -7.5\n",
    "    COZ = 2.75\n",
    "print(\"COM\",COX,COY,COZ)"
   ]
  },
  {
   "cell_type": "code",
   "execution_count": 33,
   "metadata": {},
   "outputs": [
    {
     "name": "stdout",
     "output_type": "stream",
     "text": [
      "(4957989, 3) positions\n",
      "6479638 trace particles\n",
      "total gas mass = 2.19e+09 M_sun\n",
      "mass in sinks = 3.60e+08 M_sun\n"
     ]
    }
   ],
   "source": [
    "print (data[\"pos\"].shape,\"positions\")\n",
    "print (ntracer,\"trace particles\" )\n",
    "print (\"total gas mass = {:.2e} M_sun\" .format(gasmass.sum())) #in solar masses?\n",
    "#print (data[\"mass\"].size, \"total mass\")\n",
    "print (\"mass in sinks = {:.2e} M_sun\". format(data[\"mass\"][ngas:ngas+nsinks].sum()))\n",
    "## the mass are in M_sun?"
   ]
  },
  {
   "cell_type": "markdown",
   "metadata": {},
   "source": [
    "# The low resolution is only in the complex C. The model is the feedback dominated.\n",
    "The model include autogravity and the supernova are tied to sinks particles.\n",
    "\n",
    "- **first step:** For the firs 150 Myr the gas is left to evolve only by the galactic potential. No autogravitation. Target mass $1000 \\mathrm{M_\\odot}$.\n",
    "\n",
    "- **second step:** The simulation is turning on refinement for two spiral arm passages (70 Myr) within a 3 kpc box thath co-rotates with the fas centered on a galactic radius of 8 kpc. In this high resolution region the fas has a target mass of initially $100 \\mathrm{M_\\odot}$ fot the first 60 Myr, but it is further lowered to $10 \\mathrm{M_\\odot}$ for the final 10 Myr.\n",
    "\n",
    "\n",
    "- **third step:** refine individual clouds by injecting massless Monte Carlo tracer particles into refions of interest thich are advectes ptobabilistically with the fas flow. Evolve other 4 Myr. \n",
    "\n",
    "Complex **C** is chosen to be inside an arm, and D is an inter-arm reg ion. Refined mass 8e5 solar mass.\n",
    "\n",
    "Trace particles: "
   ]
  },
  {
   "cell_type": "markdown",
   "metadata": {},
   "source": [
    "### tracer particles arround the complex A,\n",
    "plt.hist2d(xx,yy,bins=400)  #tracer particles\n",
    "plt.plot(COX,COY,marker='o',color=\"red\") \n",
    "plt.colorbar()\n",
    "plt.grid()\n",
    "plt.xlabel('x [kpc]',fontsize=18)\n",
    "plt.ylabel('y [kpc]',fontsize=18)\n",
    "plt.show()\n",
    "\n",
    "\"\"\" xx, yy\n",
    "plt.hist2d(xx,zz,bins=400)\n",
    "plt.plot(COX,COY,marker='o',color=\"red\")\n",
    "plt.colorbar()\n",
    "plt.grid()\n",
    "plt.xlabel('x [100 pc]',fontsize=18)\n",
    "plt.ylabel('z [100 pc]',fontsize=18)\n",
    "\n",
    "plt.show()\n",
    "\"\"\""
   ]
  },
  {
   "cell_type": "markdown",
   "metadata": {},
   "source": [
    "# extract the data in high resolution"
   ]
  },
  {
   "cell_type": "code",
   "execution_count": 34,
   "metadata": {},
   "outputs": [
    {
     "name": "stdout",
     "output_type": "stream",
     "text": [
      "Lower Box corner for extracted box region\n",
      "min and max id 89982 4935446\n",
      "min max positions x 1485.0013317288488 1486.9976783216198\n",
      "min max positions y 1391.5384985913367 1393.4999947645015\n",
      "min max poritions z 1401.7616876917243 1403.7497082854516\n",
      "265943 cells inthe extracted region of size, 1.996346592771033 1.9614961731647327 1.9880205937272422\n"
     ]
    }
   ],
   "source": [
    "### define cels cubic.\n",
    "dx = np.abs(x-(COX+xcent))\n",
    "dy = np.abs(y-(COY+ycent))\n",
    "dz = np.abs(z-(COZ+zcent))\n",
    "\n",
    "#condition to lower resolution cells\n",
    "iextract, = np.where((dx<rcut)&(dy<rcut)&(dz<rcut)&(numtrace>0)&(gasmass>1.e-2))\n",
    "x_ex = x[iextract]\n",
    "y_ex = y[iextract]\n",
    "z_ex = z[iextract]\n",
    "rho_ex = rho[iextract] #not cgs\n",
    "print (\"Lower Box corner for extracted box region\")\n",
    "print (\"min and max id\", iextract.min(),iextract.max())\n",
    "\n",
    "xminvalue = x_ex.min()\n",
    "yminvalue = y_ex.min()\n",
    "zminvalue = z_ex.min()\n",
    "\n",
    "print (\"min max positions x\", x_ex.min(),x_ex.max())\n",
    "print (\"min max positions y\", y_ex.min(),y_ex.max())\n",
    "print (\"min max poritions z\", z_ex.min(),z_ex.max())\n",
    "\n",
    "#trasladamos el centro, a 0,0,0\n",
    "x_ex = x_ex - xminvalue\n",
    "y_ex = y_ex - yminvalue\n",
    "z_ex = z_ex - zminvalue\n",
    "\n",
    "print (np.size(x_ex), \"cells in the extracted region of size,\", x_ex.max(),y_ex.max(),z_ex.max())\n",
    "newbox = 2.*rcut"
   ]
  },
  {
   "cell_type": "code",
   "execution_count": 37,
   "metadata": {},
   "outputs": [
    {
     "name": "stdout",
     "output_type": "stream",
     "text": [
      "sinks mass \n",
      "[161.21905896 327.96123699 395.05313231 405.03600738]\n",
      "4 sinks in the extracted region of size, 2.0\n",
      "Min max sink positions x 0.5140918178760785 1.2092826715081628\n",
      "Min max sink positions y 0.27969583065055303 1.2902407572125867\n",
      "Min max sink positions z 0.3237788741212171 0.7839086931483052\n"
     ]
    }
   ],
   "source": [
    "#extract the sinks in extracted region\n",
    "if nsinks > 0:\n",
    "    dxs = np.abs(xs-(COX+xcent))\n",
    "    dys = np.abs(ys-(COY+ycent))\n",
    "    dzs = np.abs(zs-(COZ+zcent))\n",
    "    iextract_sinks, = np.where((dxs < rcut)&(dys < rcut)&(dzs < rcut))\n",
    "\n",
    "    if np.size(iextract_sinks) >0 :\n",
    "    \n",
    "        xs_ex = xs[iextract_sinks]\n",
    "        ys_ex = ys[iextract_sinks]\n",
    "        zs_ex = zs[iextract_sinks]\n",
    "    \n",
    "        xs_ex = xs_ex - xminvalue\n",
    "        ys_ex = ys_ex - yminvalue\n",
    "        zs_ex = zs_ex - zminvalue\n",
    "    \n",
    "        xs_ex[xs_ex<0] = 0.0\n",
    "        ys_ex[ys_ex<0] = 0.0\n",
    "        zs_ex[zs_ex<0] = 0.0\n",
    "        print (\"sinks mass \")\n",
    "        print (data[\"mass\"][iextract_sinks])\n",
    "        print(np.size(xs_ex),'sinks in the extracted region of size,',newbox)\n",
    "        print('Min max sink positions x', xs_ex.min(),xs_ex.max())\n",
    "        print('Min max sink positions y', ys_ex.min(),ys_ex.max())\n",
    "        print('Min max sink positions z', zs_ex.min(),zs_ex.max())\n",
    "        \n",
    "    else:\n",
    "        \n",
    "        print('zeroing sinks as none in the region')\n",
    "        nsinks = 0"
   ]
  },
  {
   "cell_type": "markdown",
   "metadata": {},
   "source": [
    "#where are the sinks age?"
   ]
  },
  {
   "cell_type": "markdown",
   "metadata": {},
   "source": [
    "## sinks data using arepy read sinks data:"
   ]
  },
  {
   "cell_type": "code",
   "execution_count": 46,
   "metadata": {},
   "outputs": [
    {
     "name": "stdout",
     "output_type": "stream",
     "text": [
      "Loading file /home/jesus/Dropbox/Galvan-Madrid/MCTR_Cfeed_n6r3K_269\n",
      "Time =  [3.0564786e-307]\n",
      "Number of sink particles =  [0]\n"
     ]
    },
    {
     "data": {
      "text/plain": [
       "{'Pos': [],\n",
       " 'Vel': [],\n",
       " 'Acc': [],\n",
       " 'Mass': [],\n",
       " 'MassOld': [],\n",
       " 'AccretionRadius': [],\n",
       " 'FormationMass': [],\n",
       " 'FormationTime': [],\n",
       " 'ID': [],\n",
       " 'HomeTask': [],\n",
       " 'Index': [],\n",
       " 'FormationOrder': [],\n",
       " 'N_sne': [],\n",
       " 'explosion_time': [],\n",
       " 'MassStillToConvert': [],\n",
       " 'AccretionTime': []}"
      ]
     },
     "execution_count": 46,
     "metadata": {},
     "output_type": "execute_result"
    }
   ],
   "source": [
    "#from arepy.read_write import binary_read as rsink\n",
    "## read data sinks\n",
    "time, SinkP = rsnap.read_sink_evolution_file(f)\n",
    "SinkP"
   ]
  }
 ],
 "metadata": {
  "kernelspec": {
   "display_name": "Python 3",
   "language": "python",
   "name": "python3"
  },
  "language_info": {
   "codemirror_mode": {
    "name": "ipython",
    "version": 3
   },
   "file_extension": ".py",
   "mimetype": "text/x-python",
   "name": "python",
   "nbconvert_exporter": "python",
   "pygments_lexer": "ipython3",
   "version": "3.7.6"
  }
 },
 "nbformat": 4,
 "nbformat_minor": 2
}
